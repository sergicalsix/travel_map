{
 "cells": [
  {
   "cell_type": "code",
   "execution_count": 1,
   "id": "6194224a-a5cd-46db-be63-67c75dee9836",
   "metadata": {},
   "outputs": [
    {
     "ename": "ModuleNotFoundError",
     "evalue": "No module named 'geocode'",
     "output_type": "error",
     "traceback": [
      "\u001b[0;31m---------------------------------------------------------------------------\u001b[0m",
      "\u001b[0;31mModuleNotFoundError\u001b[0m                       Traceback (most recent call last)",
      "\u001b[0;32m/var/folders/4h/6p_tnk45467fqc01zbhlyj900000gp/T/ipykernel_22072/3717845567.py\u001b[0m in \u001b[0;36m<module>\u001b[0;34m\u001b[0m\n\u001b[1;32m      4\u001b[0m \u001b[0;32mimport\u001b[0m \u001b[0mfolium\u001b[0m\u001b[0;34m\u001b[0m\u001b[0;34m\u001b[0m\u001b[0m\n\u001b[1;32m      5\u001b[0m \u001b[0;32mimport\u001b[0m \u001b[0mpydeck\u001b[0m \u001b[0;32mas\u001b[0m \u001b[0mpdk\u001b[0m\u001b[0;34m\u001b[0m\u001b[0;34m\u001b[0m\u001b[0m\n\u001b[0;32m----> 6\u001b[0;31m \u001b[0;32mfrom\u001b[0m \u001b[0mgeocode\u001b[0m \u001b[0;32mimport\u001b[0m \u001b[0mget_place_data\u001b[0m\u001b[0;34m,\u001b[0m\u001b[0mstr_list_to_numpy_array\u001b[0m\u001b[0;34m\u001b[0m\u001b[0;34m\u001b[0m\u001b[0m\n\u001b[0m\u001b[1;32m      7\u001b[0m \u001b[0;34m\u001b[0m\u001b[0m\n\u001b[1;32m      8\u001b[0m \u001b[0;34m\u001b[0m\u001b[0m\n",
      "\u001b[0;31mModuleNotFoundError\u001b[0m: No module named 'geocode'"
     ]
    }
   ],
   "source": [
    "import geocoder\n",
    "import numpy as np\n",
    "import pandas as pd\n",
    "import folium\n",
    "import pydeck as pdk\n",
    "from geocode import get_place_data,str_list_to_numpy_array\n",
    "\n",
    "\n",
    "\n",
    "#place = '清水寺'\n",
    "#ret = geocoder.osm(place, timeout=1.0)\n",
    "#print(ret)\n",
    "#print(dir(ret))\n",
    "#print(place, ret.latlng)"
   ]
  },
  {
   "cell_type": "code",
   "execution_count": 2,
   "id": "0b83b311-ee28-4312-b990-f3c13f69e222",
   "metadata": {},
   "outputs": [],
   "source": [
    "places_list = ['清水寺','京都駅','金閣寺']\n",
    "a = get_place_data(places_list)"
   ]
  },
  {
   "cell_type": "code",
   "execution_count": 3,
   "id": "a38408fe-f07b-44be-a6aa-738576ee03d3",
   "metadata": {},
   "outputs": [
    {
     "data": {
      "text/plain": [
       "(array(['place_of_worship', 'station', 'place_of_worship'], dtype='<U32'),\n",
       " array([34.994303  , 34.9853497 , 35.03952925]),\n",
       " array([135.78443889, 135.758766  , 135.72953725]))"
      ]
     },
     "execution_count": 3,
     "metadata": {},
     "output_type": "execute_result"
    }
   ],
   "source": [
    "a = np.array(a)\n",
    "place_type ,lat, long = a[:,0], str_list_to_numpy_array(a[:,1]), str_list_to_numpy_array(a[:,2])\n",
    "place_type ,lat, long"
   ]
  },
  {
   "cell_type": "code",
   "execution_count": 5,
   "id": "1e55bdca-8368-4551-b7f3-bd6add1567c9",
   "metadata": {},
   "outputs": [
    {
     "data": {
      "text/plain": [
       "[34.994303, 34.9853497, 35.03952925]"
      ]
     },
     "execution_count": 5,
     "metadata": {},
     "output_type": "execute_result"
    }
   ],
   "source": []
  },
  {
   "cell_type": "code",
   "execution_count": 29,
   "id": "1a4a11f0-8311-4867-85b8-da4ae86880f5",
   "metadata": {},
   "outputs": [],
   "source": [
    "#2次元の地図 \n",
    "folium_map = folium.Map(location=[lat[0], long[0]], zoom_start=12)\n",
    "\n",
    "for place_,lat_,long_ in zip(places_list,lat,long):\n",
    "    folium.Marker(location=[lat_, long_],popup = place_ ).add_to(folium_map)\n",
    "#folium_map"
   ]
  },
  {
   "cell_type": "code",
   "execution_count": 25,
   "id": "c865bb88-c4c6-445e-b3d9-144c6de78036",
   "metadata": {},
   "outputs": [
    {
     "data": {
      "text/html": [
       "<div>\n",
       "<style scoped>\n",
       "    .dataframe tbody tr th:only-of-type {\n",
       "        vertical-align: middle;\n",
       "    }\n",
       "\n",
       "    .dataframe tbody tr th {\n",
       "        vertical-align: top;\n",
       "    }\n",
       "\n",
       "    .dataframe thead th {\n",
       "        text-align: right;\n",
       "    }\n",
       "</style>\n",
       "<table border=\"1\" class=\"dataframe\">\n",
       "  <thead>\n",
       "    <tr style=\"text-align: right;\">\n",
       "      <th></th>\n",
       "      <th>lat</th>\n",
       "      <th>long</th>\n",
       "    </tr>\n",
       "  </thead>\n",
       "  <tbody>\n",
       "    <tr>\n",
       "      <th>0</th>\n",
       "      <td>34.994303</td>\n",
       "      <td>135.784439</td>\n",
       "    </tr>\n",
       "    <tr>\n",
       "      <th>1</th>\n",
       "      <td>34.985350</td>\n",
       "      <td>135.758766</td>\n",
       "    </tr>\n",
       "    <tr>\n",
       "      <th>2</th>\n",
       "      <td>35.039529</td>\n",
       "      <td>135.729537</td>\n",
       "    </tr>\n",
       "  </tbody>\n",
       "</table>\n",
       "</div>"
      ],
      "text/plain": [
       "         lat        long\n",
       "0  34.994303  135.784439\n",
       "1  34.985350  135.758766\n",
       "2  35.039529  135.729537"
      ]
     },
     "execution_count": 25,
     "metadata": {},
     "output_type": "execute_result"
    }
   ],
   "source": [
    "df = pd.DataFrame()\n",
    "#df['name'] = [f\"{places_list[i]}-{places_list[i+1]}\" for i in range(len(lat) - 1)]\n",
    "#df['path'] = [[[lat[i],long[0]] ,[lat[i+1], long[i+1]]] for i in range(len(lat) - 1)]\n",
    "#df['time'] = [i+1 for i in range(len(lat)  - 1)] \n",
    "#df['color'] = [(237, 28, 36) for i in range(len(lat)  - 1)]\n",
    "df['lat'] = lat\n",
    "df['long'] = long\n",
    "#a = df.path[0]\n",
    "#b= df.path[1]\n",
    "df"
   ]
  },
  {
   "cell_type": "code",
   "execution_count": 28,
   "id": "a0a3a66c-8784-4bde-a488-ace827323392",
   "metadata": {},
   "outputs": [],
   "source": [
    "layers=[\n",
    "        pdk.Layer(\n",
    "            'ScatterplotLayer',\n",
    "            data=df,\n",
    "            get_position='[lat, long]',\n",
    "            #get_fill_color=\"ward_color\",\n",
    "            get_fill_color=[180, 0, 200,150],\n",
    "            get_radius=100,\n",
    "        )]\n",
    "\n",
    "\n",
    "fig = pdk.Deck(\n",
    "            map_style='mapbox://styles/mapbox/stree',\n",
    "            initial_view_state= pdk.ViewState(latitude=lat[0],longitude=long[0], zoom=14,patch = 50),\n",
    "            layers = layers\n",
    "            )\n",
    "#fig"
   ]
  },
  {
   "cell_type": "code",
   "execution_count": 6,
   "id": "4da5bf6c-3c68-436d-b3de-696a4c424314",
   "metadata": {},
   "outputs": [
    {
     "data": {
      "application/vnd.jupyter.widget-view+json": {
       "model_id": "c32f36f275474699b4a3b35ea94d73dd",
       "version_major": 2,
       "version_minor": 0
      },
      "text/plain": [
       "DeckGLWidget(carto_key=None, custom_libraries=[], google_maps_key=None, json_input='{\"initialViewState\": {\"lat…"
      ]
     },
     "metadata": {},
     "output_type": "display_data"
    }
   ],
   "source": [
    "layer= pdk.Layer(\n",
    "    type = \"PathLayer\",\n",
    "    data=df,\n",
    "    pickable=True,\n",
    "    get_color=\"color\",\n",
    "    width_scale=20,\n",
    "    width_min_pixels=2,\n",
    "    get_path=\"path\",\n",
    "    get_width=5,\n",
    ")\n",
    "#3次元の地図\n",
    "view_state = pdk.ViewState(latitude=lat[0],longitude=long[0], zoom=10)\n",
    "r = pdk.Deck(layers=[layer], initial_view_state=view_state)\n",
    "r.show()"
   ]
  },
  {
   "cell_type": "code",
   "execution_count": null,
   "id": "5a514d12-8084-4782-8bcf-bbebc35dc9cc",
   "metadata": {},
   "outputs": [],
   "source": []
  },
  {
   "cell_type": "code",
   "execution_count": 63,
   "id": "bb1a46fa-ff35-42ca-a6fe-3b523f8a7923",
   "metadata": {},
   "outputs": [
    {
     "data": {
      "application/vnd.jupyter.widget-view+json": {
       "model_id": "d9e25c050b294efd8d8bd726fdfd704c",
       "version_major": 2,
       "version_minor": 0
      },
      "text/plain": [
       "DeckGLWidget(carto_key=None, custom_libraries=[], google_maps_key=None, json_input='{\"initialViewState\": {\"lat…"
      ]
     },
     "metadata": {},
     "output_type": "display_data"
    }
   ],
   "source": []
  },
  {
   "cell_type": "code",
   "execution_count": null,
   "id": "fc37e278-d581-487b-93ef-3be1c5a4dfa9",
   "metadata": {},
   "outputs": [],
   "source": []
  },
  {
   "cell_type": "code",
   "execution_count": 77,
   "id": "988134cf-3af6-4630-ae1e-2f19c9c30ac5",
   "metadata": {},
   "outputs": [
    {
     "data": {
      "text/html": [
       "<div>\n",
       "<style scoped>\n",
       "    .dataframe tbody tr th:only-of-type {\n",
       "        vertical-align: middle;\n",
       "    }\n",
       "\n",
       "    .dataframe tbody tr th {\n",
       "        vertical-align: top;\n",
       "    }\n",
       "\n",
       "    .dataframe thead th {\n",
       "        text-align: right;\n",
       "    }\n",
       "</style>\n",
       "<table border=\"1\" class=\"dataframe\">\n",
       "  <thead>\n",
       "    <tr style=\"text-align: right;\">\n",
       "      <th></th>\n",
       "      <th>name</th>\n",
       "      <th>color</th>\n",
       "      <th>path</th>\n",
       "    </tr>\n",
       "  </thead>\n",
       "  <tbody>\n",
       "    <tr>\n",
       "      <th>0</th>\n",
       "      <td>Richmond - Millbrae</td>\n",
       "      <td>(237, 28, 36)</td>\n",
       "      <td>[[-122.3535851, 37.9360513], [-122.3179784, 37...</td>\n",
       "    </tr>\n",
       "    <tr>\n",
       "      <th>1</th>\n",
       "      <td>Fremont - Richmond</td>\n",
       "      <td>(250, 166, 26)</td>\n",
       "      <td>[[-122.353165, 37.936887], [-122.317269, 37.92...</td>\n",
       "    </tr>\n",
       "    <tr>\n",
       "      <th>2</th>\n",
       "      <td>Pittsburg/Bay Point - SFO</td>\n",
       "      <td>(255, 232, 0)</td>\n",
       "      <td>[[-121.945154, 38.018914], [-122.024597, 38.00...</td>\n",
       "    </tr>\n",
       "    <tr>\n",
       "      <th>3</th>\n",
       "      <td>Dublin/Pleasanton - Daly City</td>\n",
       "      <td>(0, 174, 239)</td>\n",
       "      <td>[[-121.900367, 37.701695], [-121.928099, 37.69...</td>\n",
       "    </tr>\n",
       "    <tr>\n",
       "      <th>4</th>\n",
       "      <td>Fremont - Daly City</td>\n",
       "      <td>(77, 184, 72)</td>\n",
       "      <td>[[-121.9764, 37.557355], [-122.017867, 37.5912...</td>\n",
       "    </tr>\n",
       "  </tbody>\n",
       "</table>\n",
       "</div>"
      ],
      "text/plain": [
       "                            name           color  \\\n",
       "0            Richmond - Millbrae   (237, 28, 36)   \n",
       "1             Fremont - Richmond  (250, 166, 26)   \n",
       "2      Pittsburg/Bay Point - SFO   (255, 232, 0)   \n",
       "3  Dublin/Pleasanton - Daly City   (0, 174, 239)   \n",
       "4            Fremont - Daly City   (77, 184, 72)   \n",
       "\n",
       "                                                path  \n",
       "0  [[-122.3535851, 37.9360513], [-122.3179784, 37...  \n",
       "1  [[-122.353165, 37.936887], [-122.317269, 37.92...  \n",
       "2  [[-121.945154, 38.018914], [-122.024597, 38.00...  \n",
       "3  [[-121.900367, 37.701695], [-121.928099, 37.69...  \n",
       "4  [[-121.9764, 37.557355], [-122.017867, 37.5912...  "
      ]
     },
     "execution_count": 77,
     "metadata": {},
     "output_type": "execute_result"
    }
   ],
   "source": [
    "df.head()\n"
   ]
  },
  {
   "cell_type": "code",
   "execution_count": 31,
   "id": "9616fd76-0e0f-48c7-99e7-24f37e625140",
   "metadata": {},
   "outputs": [
    {
     "data": {
      "text/html": [
       "\n",
       "        <iframe\n",
       "            width=\"100%\"\n",
       "            height=500\n",
       "            frameborder=\"0\"\n",
       "            srcdoc=\"&lt;!DOCTYPE html&gt;\n",
       "&lt;html&gt;\n",
       "  &lt;head&gt;\n",
       "    &lt;meta http-equiv=&quot;content-type&quot; content=&quot;text/html; charset=UTF-8&quot; /&gt;\n",
       "    &lt;title&gt;pydeck&lt;/title&gt;\n",
       "        &lt;script src=&quot;https://api.tiles.mapbox.com/mapbox-gl-js/v1.13.0/mapbox-gl.js&quot;&gt;&lt;/script&gt;\n",
       "        &lt;link rel=&quot;stylesheet&quot; href=&quot;https://maxcdn.bootstrapcdn.com/bootstrap/3.2.0/css/bootstrap-theme.min.css&quot; /&gt;\n",
       "    &lt;link rel=&quot;stylesheet&quot; href=&quot;https://maxcdn.bootstrapcdn.com/font-awesome/4.6.3/css/font-awesome.min.css&quot; /&gt;\n",
       "    &lt;script src=&#x27;https://cdn.jsdelivr.net/npm/@deck.gl/jupyter-widget@~8.5.*/dist/index.js&#x27;&gt;&lt;/script&gt;\n",
       "    &lt;style&gt;\n",
       "    body {\n",
       "  margin: 0;\n",
       "  padding: 0;\n",
       "  overflow: hidden;\n",
       "}\n",
       "\n",
       "#deck-map-container {\n",
       "  width: 100%;\n",
       "  height: 100%;\n",
       "  background-color: black;\n",
       "}\n",
       "\n",
       "#map {\n",
       "  pointer-events: none;\n",
       "  height: 100%;\n",
       "  width: 100%;\n",
       "  position: absolute;\n",
       "  z-index: 1;\n",
       "}\n",
       "\n",
       "#deckgl-overlay {\n",
       "  z-index: 2;\n",
       "  background: none;\n",
       "}\n",
       "\n",
       "#deck-map-wrapper {\n",
       "  width: 100%;\n",
       "  height: 100%;\n",
       "}\n",
       "\n",
       "#deck-container {\n",
       "  width: 100vw;\n",
       "  height: 100vh;\n",
       "}\n",
       "    &lt;/style&gt;\n",
       "  &lt;/head&gt;\n",
       "  &lt;body&gt;\n",
       "    &lt;div id=&quot;deck-container&quot;&gt;\n",
       "    &lt;/div&gt;\n",
       "  &lt;/body&gt;\n",
       "  &lt;script&gt;\n",
       "    const jsonInput = {&quot;initialViewState&quot;: {&quot;latitude&quot;: 34.994303, &quot;longitude&quot;: 135.7844388864188, &quot;zoom&quot;: 10}, &quot;layers&quot;: [{&quot;@@type&quot;: &quot;PathLayer&quot;, &quot;data&quot;: [{&quot;color&quot;: [237, 28, 36], &quot;name&quot;: &quot;Richmond - Millbrae&quot;, &quot;path&quot;: [[34.994303, 135.7844388864188], [34.9853497, 135.758766]]}, {&quot;color&quot;: [250, 166, 26], &quot;name&quot;: &quot;Fremont - Richmond&quot;, &quot;path&quot;: [[34.9853497, 135.7844388864188], [35.03952925, 135.72953725309281]]}], &quot;getColor&quot;: &quot;@@=color&quot;, &quot;getPath&quot;: &quot;@@=path&quot;, &quot;getWidth&quot;: 20, &quot;id&quot;: &quot;bb99e286-ab4f-4a7a-8a69-08a7d1de776f&quot;, &quot;pickable&quot;: true, &quot;widthMinPixels&quot;: 2, &quot;widthScale&quot;: 20}], &quot;mapProvider&quot;: &quot;carto&quot;, &quot;mapStyle&quot;: &quot;https://basemaps.cartocdn.com/gl/dark-matter-gl-style/style.json&quot;, &quot;views&quot;: [{&quot;@@type&quot;: &quot;MapView&quot;, &quot;controller&quot;: true}]};\n",
       "    const tooltip = {&#x27;text&#x27;: &#x27;{name}&#x27;};\n",
       "    const customLibraries = null;\n",
       "\n",
       "    const deckInstance = createDeck({\n",
       "                  container: document.getElementById(&#x27;deck-container&#x27;),\n",
       "      jsonInput,\n",
       "      tooltip,\n",
       "      customLibraries\n",
       "    });\n",
       "\n",
       "  &lt;/script&gt;\n",
       "&lt;/html&gt;\"\n",
       "        ></iframe>\n",
       "    "
      ],
      "text/plain": [
       "{\"initialViewState\": {\"latitude\": 34.994303, \"longitude\": 135.7844388864188, \"zoom\": 10}, \"layers\": [{\"@@type\": \"PathLayer\", \"data\": [{\"color\": [237, 28, 36], \"name\": \"Richmond - Millbrae\", \"path\": [[34.994303, 135.7844388864188], [34.9853497, 135.758766]]}, {\"color\": [250, 166, 26], \"name\": \"Fremont - Richmond\", \"path\": [[34.9853497, 135.7844388864188], [35.03952925, 135.72953725309281]]}], \"getColor\": \"@@=color\", \"getPath\": \"@@=path\", \"getWidth\": 20, \"id\": \"bb99e286-ab4f-4a7a-8a69-08a7d1de776f\", \"pickable\": true, \"widthMinPixels\": 2, \"widthScale\": 20}], \"mapProvider\": \"carto\", \"mapStyle\": \"https://basemaps.cartocdn.com/gl/dark-matter-gl-style/style.json\", \"views\": [{\"@@type\": \"MapView\", \"controller\": true}]}"
      ]
     },
     "execution_count": 31,
     "metadata": {},
     "output_type": "execute_result"
    }
   ],
   "source": [
    "import pandas as pd\n",
    "import pydeck as pdk\n",
    "\n",
    "DATA_URL = \"https://raw.githubusercontent.com/visgl/deck.gl-data/master/website/bart-lines.json\"\n",
    "df = pd.read_json(DATA_URL)\n",
    "\n",
    "\n",
    "def hex_to_rgb(h):\n",
    "    h = h.lstrip(\"#\")\n",
    "    return tuple(int(h[i : i + 2], 16) for i in (0, 2, 4))\n",
    "\n",
    "\n",
    "df[\"color\"] = df[\"color\"].apply(hex_to_rgb)\n",
    "df = df.iloc[:2]\n",
    "df['path'][0] = a\n",
    "df['path'][1] = b\n",
    "\n",
    "\n",
    "view_state = pdk.ViewState(latitude=lat[0],longitude=long[0], zoom=10)\n",
    "\n",
    "layer = pdk.Layer(\n",
    "    type=\"PathLayer\",\n",
    "    data=df,\n",
    "    pickable=True,\n",
    "    get_color=\"color\",\n",
    "    width_scale=20,\n",
    "    width_min_pixels=2,\n",
    "    get_path=\"path\",\n",
    "    get_width=20,\n",
    ")\n",
    "\n",
    "r = pdk.Deck(layers=[layer], initial_view_state=view_state, tooltip={\"text\": \"{name}\"})\n",
    "r"
   ]
  },
  {
   "cell_type": "code",
   "execution_count": 27,
   "id": "caafedeb-afcf-4bac-81f9-6097acd4a060",
   "metadata": {},
   "outputs": [
    {
     "data": {
      "text/html": [
       "<div>\n",
       "<style scoped>\n",
       "    .dataframe tbody tr th:only-of-type {\n",
       "        vertical-align: middle;\n",
       "    }\n",
       "\n",
       "    .dataframe tbody tr th {\n",
       "        vertical-align: top;\n",
       "    }\n",
       "\n",
       "    .dataframe thead th {\n",
       "        text-align: right;\n",
       "    }\n",
       "</style>\n",
       "<table border=\"1\" class=\"dataframe\">\n",
       "  <thead>\n",
       "    <tr style=\"text-align: right;\">\n",
       "      <th></th>\n",
       "      <th>name</th>\n",
       "      <th>color</th>\n",
       "      <th>path</th>\n",
       "    </tr>\n",
       "  </thead>\n",
       "  <tbody>\n",
       "    <tr>\n",
       "      <th>0</th>\n",
       "      <td>Richmond - Millbrae</td>\n",
       "      <td>(237, 28, 36)</td>\n",
       "      <td>[[34.994303, 135.7844388864188], [34.9853497, ...</td>\n",
       "    </tr>\n",
       "    <tr>\n",
       "      <th>1</th>\n",
       "      <td>Fremont - Richmond</td>\n",
       "      <td>(250, 166, 26)</td>\n",
       "      <td>[[34.9853497, 135.7844388864188], [35.03952925...</td>\n",
       "    </tr>\n",
       "  </tbody>\n",
       "</table>\n",
       "</div>"
      ],
      "text/plain": [
       "                  name           color  \\\n",
       "0  Richmond - Millbrae   (237, 28, 36)   \n",
       "1   Fremont - Richmond  (250, 166, 26)   \n",
       "\n",
       "                                                path  \n",
       "0  [[34.994303, 135.7844388864188], [34.9853497, ...  \n",
       "1  [[34.9853497, 135.7844388864188], [35.03952925...  "
      ]
     },
     "execution_count": 27,
     "metadata": {},
     "output_type": "execute_result"
    }
   ],
   "source": [
    "df"
   ]
  },
  {
   "cell_type": "code",
   "execution_count": 15,
   "id": "44c95db5-a65a-4e4d-a924-effdbe362d86",
   "metadata": {},
   "outputs": [],
   "source": [
    "b = df.path[0]"
   ]
  },
  {
   "cell_type": "code",
   "execution_count": 16,
   "id": "47965696-9d76-4f47-9841-e7fc15dde7d6",
   "metadata": {},
   "outputs": [
    {
     "data": {
      "text/plain": [
       "list"
      ]
     },
     "execution_count": 16,
     "metadata": {},
     "output_type": "execute_result"
    }
   ],
   "source": [
    "type(b)"
   ]
  },
  {
   "cell_type": "code",
   "execution_count": 17,
   "id": "cc286179-c2ae-45d1-a292-810907850c4e",
   "metadata": {},
   "outputs": [
    {
     "data": {
      "text/plain": [
       "list"
      ]
     },
     "execution_count": 17,
     "metadata": {},
     "output_type": "execute_result"
    }
   ],
   "source": [
    "type(a)"
   ]
  },
  {
   "cell_type": "code",
   "execution_count": null,
   "id": "7b3d835f-21fd-4eab-b908-78a9e6c093e2",
   "metadata": {},
   "outputs": [],
   "source": []
  },
  {
   "cell_type": "code",
   "execution_count": null,
   "id": "21be174e-719d-460c-9dd4-cd43d711a63f",
   "metadata": {},
   "outputs": [],
   "source": []
  },
  {
   "cell_type": "markdown",
   "id": "a225ace1-20b7-4725-808c-eac3413380ed",
   "metadata": {},
   "source": [
    "## 最短経路\n"
   ]
  },
  {
   "cell_type": "code",
   "execution_count": 14,
   "id": "99ff78a2-d17b-49bb-8f0b-7e7b990757b0",
   "metadata": {},
   "outputs": [
    {
     "data": {
      "text/plain": [
       "array([[140.1 ,  33.2 ],\n",
       "       [130.33,  34.5 ],\n",
       "       [140.3 ,  33.3 ]])"
      ]
     },
     "execution_count": 14,
     "metadata": {},
     "output_type": "execute_result"
    }
   ],
   "source": [
    "import pulp\n",
    "from scipy.spatial import distance\n",
    "import pandas as pd\n",
    "\n",
    "df = pd.DataFrame()\n",
    "df['lat'] = [140.1,130.33,140.3]\n",
    "df['long'] = [33.2, 34.5, 33.3]\n",
    "df.index = range(1,len(df) + 1 )\n",
    "df.values"
   ]
  },
  {
   "cell_type": "code",
   "execution_count": 19,
   "id": "2823614e-9364-4d63-b319-1b9a1f16278a",
   "metadata": {},
   "outputs": [
    {
     "data": {
      "text/plain": [
       "[[1, 2], [1, 3], [2, 3]]"
      ]
     },
     "execution_count": 19,
     "metadata": {},
     "output_type": "execute_result"
    }
   ],
   "source": [
    "path_ = []\n",
    "for i in df.index:\n",
    "    for j in df.index:\n",
    "        if i < j:\n",
    "            path_.append([i,j])\n",
    "path_"
   ]
  },
  {
   "cell_type": "code",
   "execution_count": 39,
   "id": "bbd19cba-40bf-4a32-bb17-53324a4eaf27",
   "metadata": {},
   "outputs": [
    {
     "data": {
      "text/plain": [
       "array([ 9.85610978,  0.2236068 , 10.04195698])"
      ]
     },
     "execution_count": 39,
     "metadata": {},
     "output_type": "execute_result"
    }
   ],
   "source": [
    "p = pulp.LpProblem('tsp_mip', pulp.LpMinimize)\n",
    "path_len = len(path_)\n",
    "#経路の行列を作成\n",
    "w = distance.pdist(df.values) # dist(u=X[i], v=X[j]) is computed and stored in entry m * i + j - ((i + 2) * (i + 1)) // 2.\n",
    "w"
   ]
  },
  {
   "cell_type": "code",
   "execution_count": 40,
   "id": "271f8721-9fae-4305-a79f-0cd42bb24462",
   "metadata": {},
   "outputs": [
    {
     "name": "stdout",
     "output_type": "stream",
     "text": [
      "Welcome to the CBC MILP Solver \n",
      "Version: 2.10.3 \n",
      "Build Date: Dec 15 2019 \n",
      "\n",
      "command line - /Users/shibuya/myGitHub/TravelPlan/venv/lib/python3.7/site-packages/pulp/apis/../solverdir/cbc/osx/64/cbc /var/folders/4h/6p_tnk45467fqc01zbhlyj900000gp/T/3d0f5681cea949d9bf79396a70d92992-pulp.mps timeMode elapsed branch printingOptions all solution /var/folders/4h/6p_tnk45467fqc01zbhlyj900000gp/T/3d0f5681cea949d9bf79396a70d92992-pulp.sol (default strategy 1)\n",
      "At line 2 NAME          MODEL\n",
      "At line 3 ROWS\n",
      "At line 9 COLUMNS\n",
      "At line 25 RHS\n",
      "At line 30 BOUNDS\n",
      "At line 34 ENDATA\n",
      "Problem MODEL has 4 rows, 3 columns and 6 elements\n",
      "Coin0008I MODEL read with 0 errors\n",
      "Option for timeMode changed from cpu to elapsed\n",
      "Continuous objective value is 10.0797 - 0.00 seconds\n",
      "Cgl0004I processed model has 1 rows, 3 columns (3 integer (3 of which binary)) and 3 elements\n",
      "Cbc0038I Initial state - 0 integers unsatisfied sum - 0\n",
      "Cbc0038I Solution found of 10.0797\n",
      "Cbc0038I Before mini branch and bound, 3 integers at bound fix"
     ]
    },
    {
     "data": {
      "text/plain": [
       "1"
      ]
     },
     "execution_count": 40,
     "metadata": {},
     "output_type": "execute_result"
    },
    {
     "name": "stdout",
     "output_type": "stream",
     "text": [
      "ed and 0 continuous\n",
      "Cbc0038I Mini branch and bound did not improve solution (0.00 seconds)\n",
      "Cbc0038I After 0.00 seconds - Feasibility pump exiting with objective of 10.0797 - took 0.00 seconds\n",
      "Cbc0012I Integer solution of 10.079717 found by feasibility pump after 0 iterations and 0 nodes (0.00 seconds)\n",
      "Cbc0001I Search completed - best objective 10.079716577983, took 0 iterations and 0 nodes (0.00 seconds)\n",
      "Cbc0035I Maximum depth 0, 0 variables fixed on reduced cost\n",
      "Cuts at root node changed objective from 10.0797 to 10.0797\n",
      "Probing was tried 0 times and created 0 cuts of which 0 were active after adding rounds of cuts (0.000 seconds)\n",
      "Gomory was tried 0 times and created 0 cuts of which 0 were active after adding rounds of cuts (0.000 seconds)\n",
      "Knapsack was tried 0 times and created 0 cuts of which 0 were active after adding rounds of cuts (0.000 seconds)\n",
      "Clique was tried 0 times and created 0 cuts of which 0 were active after adding rounds of cuts (0.000 seconds)\n",
      "MixedIntegerRounding2 was tried 0 times and created 0 cuts of which 0 were active after adding rounds of cuts (0.000 seconds)\n",
      "FlowCover was tried 0 times and created 0 cuts of which 0 were active after adding rounds of cuts (0.000 seconds)\n",
      "TwoMirCuts was tried 0 times and created 0 cuts of which 0 were active after adding rounds of cuts (0.000 seconds)\n",
      "ZeroHalf was tried 0 times and created 0 cuts of which 0 were active after adding rounds of cuts (0.000 seconds)\n",
      "\n",
      "Result - Optimal solution found\n",
      "\n",
      "Objective value:                10.07971658\n",
      "Enumerated nodes:               0\n",
      "Total iterations:               0\n",
      "Time (CPU seconds):             0.00\n",
      "Time (Wallclock seconds):       0.01\n",
      "\n",
      "Option for printingOptions changed from normal to all\n",
      "Total time (CPU seconds):       0.00   (Wallclock seconds):       0.01\n",
      "\n"
     ]
    }
   ],
   "source": [
    "x = [ pulp.LpVariable(f'x{path_[i][0]}_{path_[i][1]}', cat='Binary') for i in range(path_len)]\n",
    "p += pulp.lpDot(w, x)\n",
    "\n",
    "# set constrains\n",
    "for i in range(path_len):\n",
    "    p += x[i] <= 1\n",
    "p+= pulp.lpSum(x) == len(path_) - 1\n",
    "p.solve()\n"
   ]
  },
  {
   "cell_type": "code",
   "execution_count": 47,
   "id": "12c8fee2-b144-42d2-812c-4e9b226e4791",
   "metadata": {},
   "outputs": [
    {
     "data": {
      "text/plain": [
       "9.85610978023275*x1_2 + 0.22360679774999168*x1_3 + 10.041956980588992*x2_3 + 0.0"
      ]
     },
     "execution_count": 47,
     "metadata": {},
     "output_type": "execute_result"
    }
   ],
   "source": [
    "p.objective"
   ]
  },
  {
   "cell_type": "code",
   "execution_count": 56,
   "id": "b468b806-c39a-4147-bb0a-e31fd0f5f962",
   "metadata": {},
   "outputs": [
    {
     "data": {
      "text/plain": [
       "[1.0, 1.0, 0.0]"
      ]
     },
     "execution_count": 56,
     "metadata": {},
     "output_type": "execute_result"
    }
   ],
   "source": [
    "list(map(pulp.value,x))"
   ]
  },
  {
   "cell_type": "code",
   "execution_count": 66,
   "id": "aa1b2c19-00f5-4fe7-896a-697bbba146cf",
   "metadata": {},
   "outputs": [
    {
     "data": {
      "text/plain": [
       "[1, 1, 0]"
      ]
     },
     "execution_count": 66,
     "metadata": {},
     "output_type": "execute_result"
    }
   ],
   "source": [
    "a = list(map(int,map(pulp.value,x)))\n",
    "a"
   ]
  },
  {
   "cell_type": "code",
   "execution_count": 68,
   "id": "26d9d806-6418-4dad-a0f1-45376474db83",
   "metadata": {},
   "outputs": [
    {
     "data": {
      "text/plain": [
       "array([x1_2, x1_3, x2_3], dtype=object)"
      ]
     },
     "execution_count": 68,
     "metadata": {},
     "output_type": "execute_result"
    }
   ],
   "source": [
    "np.array(x) "
   ]
  },
  {
   "cell_type": "code",
   "execution_count": 63,
   "id": "a67cf649-17f3-4cb5-90d6-4773536866ca",
   "metadata": {},
   "outputs": [],
   "source": [
    "import numpy as np"
   ]
  },
  {
   "cell_type": "code",
   "execution_count": 70,
   "id": "bc69b967-1725-4cec-972a-560da408171e",
   "metadata": {},
   "outputs": [],
   "source": [
    "df['l'] = [1,1,1]"
   ]
  },
  {
   "cell_type": "code",
   "execution_count": 71,
   "id": "26f3948d-4b6d-4240-a1ff-64115aceb4fb",
   "metadata": {},
   "outputs": [
    {
     "data": {
      "text/html": [
       "<div>\n",
       "<style scoped>\n",
       "    .dataframe tbody tr th:only-of-type {\n",
       "        vertical-align: middle;\n",
       "    }\n",
       "\n",
       "    .dataframe tbody tr th {\n",
       "        vertical-align: top;\n",
       "    }\n",
       "\n",
       "    .dataframe thead th {\n",
       "        text-align: right;\n",
       "    }\n",
       "</style>\n",
       "<table border=\"1\" class=\"dataframe\">\n",
       "  <thead>\n",
       "    <tr style=\"text-align: right;\">\n",
       "      <th></th>\n",
       "      <th>lat</th>\n",
       "      <th>long</th>\n",
       "      <th>l</th>\n",
       "    </tr>\n",
       "  </thead>\n",
       "  <tbody>\n",
       "    <tr>\n",
       "      <th>1</th>\n",
       "      <td>140.10</td>\n",
       "      <td>33.2</td>\n",
       "      <td>1</td>\n",
       "    </tr>\n",
       "    <tr>\n",
       "      <th>2</th>\n",
       "      <td>130.33</td>\n",
       "      <td>34.5</td>\n",
       "      <td>1</td>\n",
       "    </tr>\n",
       "    <tr>\n",
       "      <th>3</th>\n",
       "      <td>140.30</td>\n",
       "      <td>33.3</td>\n",
       "      <td>1</td>\n",
       "    </tr>\n",
       "  </tbody>\n",
       "</table>\n",
       "</div>"
      ],
      "text/plain": [
       "      lat  long  l\n",
       "1  140.10  33.2  1\n",
       "2  130.33  34.5  1\n",
       "3  140.30  33.3  1"
      ]
     },
     "execution_count": 71,
     "metadata": {},
     "output_type": "execute_result"
    }
   ],
   "source": [
    "df"
   ]
  },
  {
   "cell_type": "code",
   "execution_count": 72,
   "id": "244692b4-5160-4f4e-9173-07b9c84d6000",
   "metadata": {},
   "outputs": [
    {
     "data": {
      "text/html": [
       "<div>\n",
       "<style scoped>\n",
       "    .dataframe tbody tr th:only-of-type {\n",
       "        vertical-align: middle;\n",
       "    }\n",
       "\n",
       "    .dataframe tbody tr th {\n",
       "        vertical-align: top;\n",
       "    }\n",
       "\n",
       "    .dataframe thead th {\n",
       "        text-align: right;\n",
       "    }\n",
       "</style>\n",
       "<table border=\"1\" class=\"dataframe\">\n",
       "  <thead>\n",
       "    <tr style=\"text-align: right;\">\n",
       "      <th></th>\n",
       "      <th>lat</th>\n",
       "      <th>long</th>\n",
       "    </tr>\n",
       "  </thead>\n",
       "  <tbody>\n",
       "    <tr>\n",
       "      <th>1</th>\n",
       "      <td>140.10</td>\n",
       "      <td>33.2</td>\n",
       "    </tr>\n",
       "    <tr>\n",
       "      <th>2</th>\n",
       "      <td>130.33</td>\n",
       "      <td>34.5</td>\n",
       "    </tr>\n",
       "    <tr>\n",
       "      <th>3</th>\n",
       "      <td>140.30</td>\n",
       "      <td>33.3</td>\n",
       "    </tr>\n",
       "  </tbody>\n",
       "</table>\n",
       "</div>"
      ],
      "text/plain": [
       "      lat  long\n",
       "1  140.10  33.2\n",
       "2  130.33  34.5\n",
       "3  140.30  33.3"
      ]
     },
     "execution_count": 72,
     "metadata": {},
     "output_type": "execute_result"
    }
   ],
   "source": [
    "df[['lat','long']]"
   ]
  },
  {
   "cell_type": "code",
   "execution_count": null,
   "id": "28278d0a-ce6b-40d8-807a-87fce494b7a7",
   "metadata": {},
   "outputs": [],
   "source": []
  }
 ],
 "metadata": {
  "kernelspec": {
   "display_name": "Python 3 (ipykernel)",
   "language": "python",
   "name": "python3"
  },
  "language_info": {
   "codemirror_mode": {
    "name": "ipython",
    "version": 3
   },
   "file_extension": ".py",
   "mimetype": "text/x-python",
   "name": "python",
   "nbconvert_exporter": "python",
   "pygments_lexer": "ipython3",
   "version": "3.7.12"
  }
 },
 "nbformat": 4,
 "nbformat_minor": 5
}
